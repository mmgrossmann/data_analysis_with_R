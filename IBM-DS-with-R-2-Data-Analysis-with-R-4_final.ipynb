{
 "cells": [
  {
   "cell_type": "markdown",
   "metadata": {},
   "source": [
    "<center><img src=\"https://cf-courses-data.s3.us.cloud-object-storage.appdomain.cloud/assets/logos/SN_web_lightmode.png\" width=\"300\"></center><br/>\n",
    "\n",
    "# Assignment: Notebook for Peer Assignment\n",
    "\n",
    "Estimated time needed: 60 minutes\n"
   ]
  },
  {
   "cell_type": "markdown",
   "metadata": {},
   "source": [
    "# Assignment Scenario\n",
    "\n",
    "Congratulations! You have just been hired by a US Weather forecast firm as a data scientist.\n",
    "\n",
    "The company is considering the weather condition to help predict the possibility of precipitations, which involves using various local climatological variables, including temperature, wind speed, humidity, dew point, and pressure. The data you will be handling was collected by a NOAA weather station located at the John F. Kennedy International Airport in Queens, New York.\n",
    "\n",
    "Your task is to provide a high level analysis of weather data in JFK Airport. Your stakeholders want to understand the current and historical record of precipitations based on different variables. For now they are mainly interested in a macro-view of JFK Airport Weather, and how it relates to the possibility to rain because it will affect flight delays and etc.\n"
   ]
  },
  {
   "cell_type": "markdown",
   "metadata": {},
   "source": [
    "# Introduction\n",
    "\n",
    "This project relates to the NOAA Weather Dataset - JFK Airport (New York). The original dataset contains 114,546 hourly observations of 12 local climatological variables (such as temperature and wind speed) collected at JFK airport. This dataset can be obtained for free from the IBM Developer [Data Asset Exchange](https://developer.ibm.com/exchanges/data/all/jfk-weather-data/). \n",
    "\n",
    "For this project, you will be using a subset dataset, which contains 5727 rows (about 5% or original rows) and 9 columns. The end goal will be to predict the precipitation using some of the available features. In this project, you will practice reading data files, preprocessing data, creating models, improving models and evaluating them to ultimately choose the best model.\n",
    "\n"
   ]
  },
  {
   "cell_type": "markdown",
   "metadata": {},
   "source": [
    "\n",
    "## Table of Contents:\n",
    "\n",
    "Using this R notebook you will complete **10 tasks**:\n",
    "* [0. Import Modules](#cell0)\n",
    "* [1. Download and Unzip NOAA Weather Dataset](#cell1)\n",
    "* [2. Read Dataset into Project](#cell2)\n",
    "* [3. Select Subset of Columns](#cell3)\n",
    "* [4. Clean Up Columns](#cell4)\n",
    "* [5. Convert Columns to Numerical Types](#cell5)\n",
    "* [6. Rename Columns](#cell6)\n",
    "* [7. Exploratory Data Analysis](#cell7)\n",
    "* [8. Linear Regression](#cell8)\n",
    "* [9. Improve the Model](#cell9)\n",
    "* [10. Find Best Model](#cell10)\n",
    "\n",
    "\n",
    "<a id=\"cell0\"></a>\n",
    "## 0. Import required modules\n",
    "\n",
    "Tidymodels is a collection of packages that use tidyverse principles to easily do the entire modeling process from preprocessing initial data, to creating a model, to tunning hyperparameters. The tidymodels packages can be used to produce high quality statistical and machine learning models. Our Jupyter notebook platforms have a built-in Tidyverse, Tidymodels and rlang packages so we do not need to install these packages prior to loading library. However, if you decide to run this lab on your RStudio Desktop locally on your machine, you can remove the commented lines of code to install these packages before loading.\n",
    " \n"
   ]
  },
  {
   "cell_type": "code",
   "execution_count": 2,
   "metadata": {
    "tags": []
   },
   "outputs": [
    {
     "name": "stderr",
     "output_type": "stream",
     "text": [
      "Updating HTML index of packages in '.Library'\n",
      "Making 'packages.html' ... done\n"
     ]
    }
   ],
   "source": [
    "# Install tidymodels if you haven't done so\n",
    "# install.packages(c(\"tidyverse\",\"tidymodels\",\"rlang\", \"readr\"))\n",
    "# library()\n",
    "install.packages(\"R.utils\")"
   ]
  },
  {
   "cell_type": "markdown",
   "metadata": {},
   "source": [
    "**Note: After installing the packages, restart the kernel. Without installing the packages again, load them. Tidyverse and Tidymodels will be the two main packages you will use.**\n"
   ]
  },
  {
   "cell_type": "code",
   "execution_count": 3,
   "metadata": {
    "tags": []
   },
   "outputs": [
    {
     "name": "stderr",
     "output_type": "stream",
     "text": [
      "── Attaching packages ────────────────────────────────────── tidymodels 0.1.0 ──\n",
      "✔ broom     0.5.6      ✔ recipes   0.1.12\n",
      "✔ dials     0.0.6      ✔ rsample   0.0.5 \n",
      "✔ dplyr     0.8.5      ✔ tibble    3.0.1 \n",
      "✔ ggplot2   3.3.0      ✔ tune      0.1.0 \n",
      "✔ infer     0.5.1      ✔ workflows 0.1.1 \n",
      "✔ parsnip   0.1.0      ✔ yardstick 0.0.6 \n",
      "✔ purrr     0.3.4      \n",
      "── Conflicts ───────────────────────────────────────── tidymodels_conflicts() ──\n",
      "✖ purrr::discard()  masks scales::discard()\n",
      "✖ dplyr::filter()   masks stats::filter()\n",
      "✖ dplyr::lag()      masks stats::lag()\n",
      "✖ ggplot2::margin() masks dials::margin()\n",
      "✖ recipes::step()   masks stats::step()\n",
      "── Attaching packages ─────────────────────────────────────── tidyverse 1.3.0 ──\n",
      "✔ readr   1.3.1     ✔ forcats 0.5.0\n",
      "✔ stringr 1.4.0     \n",
      "── Conflicts ────────────────────────────────────────── tidyverse_conflicts() ──\n",
      "✖ readr::col_factor() masks scales::col_factor()\n",
      "✖ purrr::discard()    masks scales::discard()\n",
      "✖ dplyr::filter()     masks stats::filter()\n",
      "✖ stringr::fixed()    masks recipes::fixed()\n",
      "✖ dplyr::lag()        masks stats::lag()\n",
      "✖ ggplot2::margin()   masks dials::margin()\n",
      "✖ readr::spec()       masks yardstick::spec()\n"
     ]
    }
   ],
   "source": [
    "# Library for modeling\n",
    "library(tidymodels)\n",
    "\n",
    "# Load tidyverse\n",
    "library(tidyverse)\n"
   ]
  },
  {
   "cell_type": "markdown",
   "metadata": {},
   "source": [
    "\n",
    "### Understand the Dataset\n",
    "\n",
    "The original NOAA JFK dataset contains 114,546 hourly observations of various local climatological variables (including temperature, wind speed, humidity, dew point, and pressure). \n",
    "\n",
    "In this project you will use a sample dataset, which is around 293 KB. [Link to the sample dataset](https://dax-cdn.cdn.appdomain.cloud/dax-noaa-weather-data-jfk-airport/1.1.4/noaa-weather-sample-data.tar.gz).\n",
    "\n",
    "The sample contains 5727 rows (about 5% or original rows) and 9 columns, which are:\n",
    "- DATE\n",
    "- HOURLYDewPointTempF\n",
    "- HOURLYRelativeHumidity\n",
    "- HOURLYDRYBULBTEMPF\n",
    "- HOURLYWETBULBTEMPF\n",
    "- HOURLYPrecip\n",
    "- HOURLYWindSpeed\n",
    "- HOURLYSeaLevelPressure\n",
    "- HOURLYStationPressure\n",
    "\n",
    "The original dataset is much bigger. Feel free to explore the original dataset. [Link to the original dataset.](https://dax-cdn.cdn.appdomain.cloud/dax-noaa-weather-data-jfk-airport/1.1.4/noaa_weather.html) \n",
    "\n",
    "For more information about the dataset, checkout the [preview](https://dax-cdn.cdn.appdomain.cloud/dax-noaa-weather-data-jfk-airport/1.1.4/data-preview/index.html?_ga=2.176781478.281508226.1616293518-1509963377.1616117067&cm_mc_uid=90945889198916153255549&cm_mc_sid_50200000=64650651616293516933) of NOAA Weather - JFK Airport.\n"
   ]
  },
  {
   "cell_type": "markdown",
   "metadata": {},
   "source": [
    "<a id=\"cell1\"></a>\n",
    "\n",
    "## 1. Download NOAA Weather Dataset\n",
    "\n",
    "Use the `download.file()` function to download the sample dataset from the URL below.\n",
    "\n",
    "URL = 'https://dax-cdn.cdn.appdomain.cloud/dax-noaa-weather-data-jfk-airport/1.1.4/noaa-weather-sample-data.tar.gz'\n"
   ]
  },
  {
   "cell_type": "code",
   "execution_count": 4,
   "metadata": {
    "tags": []
   },
   "outputs": [
    {
     "name": "stdout",
     "output_type": "stream",
     "text": [
      "IBM-DS-with-R-2-Data-Analysis-with-R.ipynb\n",
      "lax_to_jfk\n",
      "lax_to_jfk.tar.gz\n",
      "noaa-weather-sample-data\n",
      "noaa-weather-sample-data.gz\n",
      "noaa-weather-sample-data.tar\n"
     ]
    }
   ],
   "source": [
    "url <- 'https://dax-cdn.cdn.appdomain.cloud/dax-noaa-weather-data-jfk-airport/1.1.4/noaa-weather-sample-data.tar.gz'\n",
    "download.file(url, destfile = \"noaa-weather-sample-data.gz\", overwrite = TRUE)\n",
    "\n",
    "#if (file.exists(\"noaa-weather-sample-data\")) {\n",
    "#  unlink(\"noaa-weather-sample-data\", recursive = TRUE)\n",
    "#}\n",
    "cat(list.files(), sep = \"\\n\")"
   ]
  },
  {
   "cell_type": "code",
   "execution_count": 5,
   "metadata": {
    "tags": []
   },
   "outputs": [
    {
     "name": "stdout",
     "output_type": "stream",
     "text": [
      "IBM-DS-with-R-2-Data-Analysis-with-R.ipynb\n",
      "lax_to_jfk\n",
      "lax_to_jfk.tar.gz\n",
      "noaa-weather-sample-data\n",
      "noaa-weather-sample-data.tar\n"
     ]
    }
   ],
   "source": [
    "R.utils::gunzip(\"noaa-weather-sample-data.gz\", destname = \"noaa-weather-sample-data.tar\", overwrite = TRUE)\n",
    "cat(list.files(), sep = \"\\n\")\n"
   ]
  },
  {
   "cell_type": "code",
   "execution_count": 6,
   "metadata": {
    "tags": []
   },
   "outputs": [
    {
     "name": "stderr",
     "output_type": "stream",
     "text": [
      "Warning message in untar2(tarfile, files, list, exdir, restore_times):\n",
      "“using pax extended headers”"
     ]
    }
   ],
   "source": [
    "untar(\"noaa-weather-sample-data.tar\", exdir = \"noaa-weather-sample-data\", tar = \"internal\")\n"
   ]
  },
  {
   "cell_type": "code",
   "execution_count": 7,
   "metadata": {
    "tags": []
   },
   "outputs": [
    {
     "name": "stdout",
     "output_type": "stream",
     "text": [
      "Files after untar:\n",
      "\n",
      "noaa-weather-sample-data/jfk_weather_sample.csv\n",
      "noaa-weather-sample-data/LICENSE.txt\n",
      "noaa-weather-sample-data/README.txt\n",
      "IBM-DS-with-R-2-Data-Analysis-with-R.ipynb\n",
      "lax_to_jfk\n",
      "lax_to_jfk.tar.gz\n",
      "noaa-weather-sample-data\n",
      "noaa-weather-sample-data.tar\n"
     ]
    },
    {
     "data": {
      "text/html": [
       "<style>\n",
       ".list-inline {list-style: none; margin:0; padding: 0}\n",
       ".list-inline>li {display: inline-block}\n",
       ".list-inline>li:not(:last-child)::after {content: \"\\00b7\"; padding: 0 .5ex}\n",
       "</style>\n",
       "<ol class=list-inline><li>'noaa-weather-sample-data/jfk_weather_sample.csv'</li><li>'noaa-weather-sample-data/LICENSE.txt'</li><li>'noaa-weather-sample-data/README.txt'</li></ol>\n"
      ],
      "text/latex": [
       "\\begin{enumerate*}\n",
       "\\item 'noaa-weather-sample-data/jfk\\_weather\\_sample.csv'\n",
       "\\item 'noaa-weather-sample-data/LICENSE.txt'\n",
       "\\item 'noaa-weather-sample-data/README.txt'\n",
       "\\end{enumerate*}\n"
      ],
      "text/markdown": [
       "1. 'noaa-weather-sample-data/jfk_weather_sample.csv'\n",
       "2. 'noaa-weather-sample-data/LICENSE.txt'\n",
       "3. 'noaa-weather-sample-data/README.txt'\n",
       "\n",
       "\n"
      ],
      "text/plain": [
       "[1] \"noaa-weather-sample-data/jfk_weather_sample.csv\"\n",
       "[2] \"noaa-weather-sample-data/LICENSE.txt\"           \n",
       "[3] \"noaa-weather-sample-data/README.txt\"            "
      ]
     },
     "metadata": {},
     "output_type": "display_data"
    }
   ],
   "source": [
    "cat(\"Files after untar:\\n\", list.files(\"noaa-weather-sample-data\", recursive = TRUE), sep = \"\\n\")\n",
    "\n",
    "cat(list.files(), sep = \"\\n\")\n",
    "list.files(path = \"noaa-weather-sample-data\", recursive = TRUE)"
   ]
  },
  {
   "cell_type": "code",
   "execution_count": 8,
   "metadata": {
    "tags": []
   },
   "outputs": [
    {
     "data": {
      "text/html": [
       "<style>\n",
       ".list-inline {list-style: none; margin:0; padding: 0}\n",
       ".list-inline>li {display: inline-block}\n",
       ".list-inline>li:not(:last-child)::after {content: \"\\00b7\"; padding: 0 .5ex}\n",
       "</style>\n",
       "<ol class=list-inline><li>'/resources/DA0151EN/labs/Final_project/IBM-DS-with-R-2-Data-Analysis-with-R.ipynb'</li><li>'/resources/DA0151EN/labs/Final_project/lax_to_jfk.tar.gz'</li><li>'/resources/DA0151EN/labs/Final_project/lax_to_jfk/lax_to_jfk.csv'</li><li>'/resources/DA0151EN/labs/Final_project/lax_to_jfk/LICENSE.txt'</li><li>'/resources/DA0151EN/labs/Final_project/noaa-weather-sample-data.tar'</li><li>'/resources/DA0151EN/labs/Final_project/noaa-weather-sample-data/noaa-weather-sample-data/jfk_weather_sample.csv'</li><li>'/resources/DA0151EN/labs/Final_project/noaa-weather-sample-data/noaa-weather-sample-data/LICENSE.txt'</li><li>'/resources/DA0151EN/labs/Final_project/noaa-weather-sample-data/noaa-weather-sample-data/README.txt'</li></ol>\n"
      ],
      "text/latex": [
       "\\begin{enumerate*}\n",
       "\\item '/resources/DA0151EN/labs/Final\\_project/IBM-DS-with-R-2-Data-Analysis-with-R.ipynb'\n",
       "\\item '/resources/DA0151EN/labs/Final\\_project/lax\\_to\\_jfk.tar.gz'\n",
       "\\item '/resources/DA0151EN/labs/Final\\_project/lax\\_to\\_jfk/lax\\_to\\_jfk.csv'\n",
       "\\item '/resources/DA0151EN/labs/Final\\_project/lax\\_to\\_jfk/LICENSE.txt'\n",
       "\\item '/resources/DA0151EN/labs/Final\\_project/noaa-weather-sample-data.tar'\n",
       "\\item '/resources/DA0151EN/labs/Final\\_project/noaa-weather-sample-data/noaa-weather-sample-data/jfk\\_weather\\_sample.csv'\n",
       "\\item '/resources/DA0151EN/labs/Final\\_project/noaa-weather-sample-data/noaa-weather-sample-data/LICENSE.txt'\n",
       "\\item '/resources/DA0151EN/labs/Final\\_project/noaa-weather-sample-data/noaa-weather-sample-data/README.txt'\n",
       "\\end{enumerate*}\n"
      ],
      "text/markdown": [
       "1. '/resources/DA0151EN/labs/Final_project/IBM-DS-with-R-2-Data-Analysis-with-R.ipynb'\n",
       "2. '/resources/DA0151EN/labs/Final_project/lax_to_jfk.tar.gz'\n",
       "3. '/resources/DA0151EN/labs/Final_project/lax_to_jfk/lax_to_jfk.csv'\n",
       "4. '/resources/DA0151EN/labs/Final_project/lax_to_jfk/LICENSE.txt'\n",
       "5. '/resources/DA0151EN/labs/Final_project/noaa-weather-sample-data.tar'\n",
       "6. '/resources/DA0151EN/labs/Final_project/noaa-weather-sample-data/noaa-weather-sample-data/jfk_weather_sample.csv'\n",
       "7. '/resources/DA0151EN/labs/Final_project/noaa-weather-sample-data/noaa-weather-sample-data/LICENSE.txt'\n",
       "8. '/resources/DA0151EN/labs/Final_project/noaa-weather-sample-data/noaa-weather-sample-data/README.txt'\n",
       "\n",
       "\n"
      ],
      "text/plain": [
       "[1] \"/resources/DA0151EN/labs/Final_project/IBM-DS-with-R-2-Data-Analysis-with-R.ipynb\"                              \n",
       "[2] \"/resources/DA0151EN/labs/Final_project/lax_to_jfk.tar.gz\"                                                       \n",
       "[3] \"/resources/DA0151EN/labs/Final_project/lax_to_jfk/lax_to_jfk.csv\"                                               \n",
       "[4] \"/resources/DA0151EN/labs/Final_project/lax_to_jfk/LICENSE.txt\"                                                  \n",
       "[5] \"/resources/DA0151EN/labs/Final_project/noaa-weather-sample-data.tar\"                                            \n",
       "[6] \"/resources/DA0151EN/labs/Final_project/noaa-weather-sample-data/noaa-weather-sample-data/jfk_weather_sample.csv\"\n",
       "[7] \"/resources/DA0151EN/labs/Final_project/noaa-weather-sample-data/noaa-weather-sample-data/LICENSE.txt\"           \n",
       "[8] \"/resources/DA0151EN/labs/Final_project/noaa-weather-sample-data/noaa-weather-sample-data/README.txt\"            "
      ]
     },
     "metadata": {},
     "output_type": "display_data"
    }
   ],
   "source": [
    "list.files(path = \"/resources/DA0151EN/labs/Final_project\", recursive = TRUE, full.names = TRUE)\n"
   ]
  },
  {
   "cell_type": "markdown",
   "metadata": {},
   "source": [
    "<a id=\"cell2\"></a>\n",
    "## 2. Extract and Read into Project\n",
    "We start by reading in the raw dataset. You should specify the file name as \"noaa-weather-sample-data/jfk_weather_sample.csv\".\n"
   ]
  },
  {
   "cell_type": "code",
   "execution_count": 9,
   "metadata": {
    "tags": []
   },
   "outputs": [
    {
     "name": "stderr",
     "output_type": "stream",
     "text": [
      "Parsed with column specification:\n",
      "cols(\n",
      "  DATE = col_datetime(format = \"\"),\n",
      "  HOURLYDewPointTempF = col_double(),\n",
      "  HOURLYRelativeHumidity = col_double(),\n",
      "  HOURLYDRYBULBTEMPF = col_double(),\n",
      "  HOURLYWETBULBTEMPF = col_double(),\n",
      "  HOURLYPrecip = col_character(),\n",
      "  HOURLYWindSpeed = col_double(),\n",
      "  HOURLYSeaLevelPressure = col_double(),\n",
      "  HOURLYStationPressure = col_double()\n",
      ")\n",
      "Warning message:\n",
      "“1 parsing failure.\n",
      " row                 col               expected actual                                                                                                              file\n",
      "1443 HOURLYDewPointTempF no trailing characters      s '/resources/DA0151EN/labs/Final_project/noaa-weather-sample-data/noaa-weather-sample-data/jfk_weather_sample.csv'\n",
      "”"
     ]
    }
   ],
   "source": [
    "jfk_weather_sample <- read_csv(\"/resources/DA0151EN/labs/Final_project/noaa-weather-sample-data/noaa-weather-sample-data/jfk_weather_sample.csv\")\n"
   ]
  },
  {
   "cell_type": "markdown",
   "metadata": {},
   "source": [
    "Next, display the first few rows of the dataframe.\n"
   ]
  },
  {
   "cell_type": "code",
   "execution_count": 10,
   "metadata": {
    "tags": []
   },
   "outputs": [
    {
     "data": {
      "text/html": [
       "<table>\n",
       "<caption>A tibble: 10 × 9</caption>\n",
       "<thead>\n",
       "\t<tr><th scope=col>DATE</th><th scope=col>HOURLYDewPointTempF</th><th scope=col>HOURLYRelativeHumidity</th><th scope=col>HOURLYDRYBULBTEMPF</th><th scope=col>HOURLYWETBULBTEMPF</th><th scope=col>HOURLYPrecip</th><th scope=col>HOURLYWindSpeed</th><th scope=col>HOURLYSeaLevelPressure</th><th scope=col>HOURLYStationPressure</th></tr>\n",
       "\t<tr><th scope=col>&lt;dttm&gt;</th><th scope=col>&lt;dbl&gt;</th><th scope=col>&lt;dbl&gt;</th><th scope=col>&lt;dbl&gt;</th><th scope=col>&lt;dbl&gt;</th><th scope=col>&lt;chr&gt;</th><th scope=col>&lt;dbl&gt;</th><th scope=col>&lt;dbl&gt;</th><th scope=col>&lt;dbl&gt;</th></tr>\n",
       "</thead>\n",
       "<tbody>\n",
       "\t<tr><td>2015-07-25 13:51:00</td><td>60</td><td>46</td><td>83</td><td>68</td><td>0.00</td><td>13</td><td>30.01</td><td>29.99</td></tr>\n",
       "\t<tr><td>2016-11-18 23:51:00</td><td>34</td><td>48</td><td>53</td><td>44</td><td>0.00</td><td> 6</td><td>30.05</td><td>30.03</td></tr>\n",
       "\t<tr><td>2013-01-06 08:51:00</td><td>33</td><td>89</td><td>36</td><td>35</td><td>0.00</td><td>13</td><td>30.14</td><td>30.12</td></tr>\n",
       "\t<tr><td>2011-01-27 16:51:00</td><td>18</td><td>48</td><td>36</td><td>30</td><td>0.00</td><td>14</td><td>29.82</td><td>29.80</td></tr>\n",
       "\t<tr><td>2015-01-03 12:16:00</td><td>27</td><td>61</td><td>39</td><td>34</td><td>T   </td><td>11</td><td>   NA</td><td>30.50</td></tr>\n",
       "\t<tr><td>2013-02-15 20:51:00</td><td>35</td><td>79</td><td>41</td><td>38</td><td>0.00</td><td> 6</td><td>29.94</td><td>29.92</td></tr>\n",
       "\t<tr><td>2014-03-01 02:51:00</td><td> 4</td><td>51</td><td>19</td><td>15</td><td>0.00</td><td> 0</td><td>30.42</td><td>30.40</td></tr>\n",
       "\t<tr><td>2014-02-12 21:51:00</td><td>14</td><td>65</td><td>24</td><td>21</td><td>0.00</td><td>11</td><td>30.37</td><td>30.35</td></tr>\n",
       "\t<tr><td>2014-10-11 09:51:00</td><td>51</td><td>90</td><td>54</td><td>52</td><td>0.06</td><td>11</td><td>30.05</td><td>30.03</td></tr>\n",
       "\t<tr><td>2012-08-09 04:00:00</td><td>71</td><td>94</td><td>73</td><td>72</td><td>NA  </td><td> 5</td><td>29.94</td><td>29.91</td></tr>\n",
       "</tbody>\n",
       "</table>\n"
      ],
      "text/latex": [
       "A tibble: 10 × 9\n",
       "\\begin{tabular}{lllllllll}\n",
       " DATE & HOURLYDewPointTempF & HOURLYRelativeHumidity & HOURLYDRYBULBTEMPF & HOURLYWETBULBTEMPF & HOURLYPrecip & HOURLYWindSpeed & HOURLYSeaLevelPressure & HOURLYStationPressure\\\\\n",
       " <dttm> & <dbl> & <dbl> & <dbl> & <dbl> & <chr> & <dbl> & <dbl> & <dbl>\\\\\n",
       "\\hline\n",
       "\t 2015-07-25 13:51:00 & 60 & 46 & 83 & 68 & 0.00 & 13 & 30.01 & 29.99\\\\\n",
       "\t 2016-11-18 23:51:00 & 34 & 48 & 53 & 44 & 0.00 &  6 & 30.05 & 30.03\\\\\n",
       "\t 2013-01-06 08:51:00 & 33 & 89 & 36 & 35 & 0.00 & 13 & 30.14 & 30.12\\\\\n",
       "\t 2011-01-27 16:51:00 & 18 & 48 & 36 & 30 & 0.00 & 14 & 29.82 & 29.80\\\\\n",
       "\t 2015-01-03 12:16:00 & 27 & 61 & 39 & 34 & T    & 11 &    NA & 30.50\\\\\n",
       "\t 2013-02-15 20:51:00 & 35 & 79 & 41 & 38 & 0.00 &  6 & 29.94 & 29.92\\\\\n",
       "\t 2014-03-01 02:51:00 &  4 & 51 & 19 & 15 & 0.00 &  0 & 30.42 & 30.40\\\\\n",
       "\t 2014-02-12 21:51:00 & 14 & 65 & 24 & 21 & 0.00 & 11 & 30.37 & 30.35\\\\\n",
       "\t 2014-10-11 09:51:00 & 51 & 90 & 54 & 52 & 0.06 & 11 & 30.05 & 30.03\\\\\n",
       "\t 2012-08-09 04:00:00 & 71 & 94 & 73 & 72 & NA   &  5 & 29.94 & 29.91\\\\\n",
       "\\end{tabular}\n"
      ],
      "text/markdown": [
       "\n",
       "A tibble: 10 × 9\n",
       "\n",
       "| DATE &lt;dttm&gt; | HOURLYDewPointTempF &lt;dbl&gt; | HOURLYRelativeHumidity &lt;dbl&gt; | HOURLYDRYBULBTEMPF &lt;dbl&gt; | HOURLYWETBULBTEMPF &lt;dbl&gt; | HOURLYPrecip &lt;chr&gt; | HOURLYWindSpeed &lt;dbl&gt; | HOURLYSeaLevelPressure &lt;dbl&gt; | HOURLYStationPressure &lt;dbl&gt; |\n",
       "|---|---|---|---|---|---|---|---|---|\n",
       "| 2015-07-25 13:51:00 | 60 | 46 | 83 | 68 | 0.00 | 13 | 30.01 | 29.99 |\n",
       "| 2016-11-18 23:51:00 | 34 | 48 | 53 | 44 | 0.00 |  6 | 30.05 | 30.03 |\n",
       "| 2013-01-06 08:51:00 | 33 | 89 | 36 | 35 | 0.00 | 13 | 30.14 | 30.12 |\n",
       "| 2011-01-27 16:51:00 | 18 | 48 | 36 | 30 | 0.00 | 14 | 29.82 | 29.80 |\n",
       "| 2015-01-03 12:16:00 | 27 | 61 | 39 | 34 | T    | 11 |    NA | 30.50 |\n",
       "| 2013-02-15 20:51:00 | 35 | 79 | 41 | 38 | 0.00 |  6 | 29.94 | 29.92 |\n",
       "| 2014-03-01 02:51:00 |  4 | 51 | 19 | 15 | 0.00 |  0 | 30.42 | 30.40 |\n",
       "| 2014-02-12 21:51:00 | 14 | 65 | 24 | 21 | 0.00 | 11 | 30.37 | 30.35 |\n",
       "| 2014-10-11 09:51:00 | 51 | 90 | 54 | 52 | 0.06 | 11 | 30.05 | 30.03 |\n",
       "| 2012-08-09 04:00:00 | 71 | 94 | 73 | 72 | NA   |  5 | 29.94 | 29.91 |\n",
       "\n"
      ],
      "text/plain": [
       "   DATE                HOURLYDewPointTempF HOURLYRelativeHumidity\n",
       "1  2015-07-25 13:51:00 60                  46                    \n",
       "2  2016-11-18 23:51:00 34                  48                    \n",
       "3  2013-01-06 08:51:00 33                  89                    \n",
       "4  2011-01-27 16:51:00 18                  48                    \n",
       "5  2015-01-03 12:16:00 27                  61                    \n",
       "6  2013-02-15 20:51:00 35                  79                    \n",
       "7  2014-03-01 02:51:00  4                  51                    \n",
       "8  2014-02-12 21:51:00 14                  65                    \n",
       "9  2014-10-11 09:51:00 51                  90                    \n",
       "10 2012-08-09 04:00:00 71                  94                    \n",
       "   HOURLYDRYBULBTEMPF HOURLYWETBULBTEMPF HOURLYPrecip HOURLYWindSpeed\n",
       "1  83                 68                 0.00         13             \n",
       "2  53                 44                 0.00          6             \n",
       "3  36                 35                 0.00         13             \n",
       "4  36                 30                 0.00         14             \n",
       "5  39                 34                 T            11             \n",
       "6  41                 38                 0.00          6             \n",
       "7  19                 15                 0.00          0             \n",
       "8  24                 21                 0.00         11             \n",
       "9  54                 52                 0.06         11             \n",
       "10 73                 72                 NA            5             \n",
       "   HOURLYSeaLevelPressure HOURLYStationPressure\n",
       "1  30.01                  29.99                \n",
       "2  30.05                  30.03                \n",
       "3  30.14                  30.12                \n",
       "4  29.82                  29.80                \n",
       "5     NA                  30.50                \n",
       "6  29.94                  29.92                \n",
       "7  30.42                  30.40                \n",
       "8  30.37                  30.35                \n",
       "9  30.05                  30.03                \n",
       "10 29.94                  29.91                "
      ]
     },
     "metadata": {},
     "output_type": "display_data"
    }
   ],
   "source": [
    "head(jfk_weather_sample, 10)"
   ]
  },
  {
   "cell_type": "markdown",
   "metadata": {},
   "source": [
    "Also, take a `glimpse` of the dataset to see the different column data types and make sure it is the correct subset dataset with about 5700 rows and 9 columns.\n"
   ]
  },
  {
   "cell_type": "code",
   "execution_count": 11,
   "metadata": {
    "tags": []
   },
   "outputs": [
    {
     "name": "stdout",
     "output_type": "stream",
     "text": [
      "Rows: 5,727\n",
      "Columns: 9\n",
      "$ DATE                   <dttm> 2015-07-25 13:51:00, 2016-11-18 23:51:00, 201…\n",
      "$ HOURLYDewPointTempF    <dbl> 60, 34, 33, 18, 27, 35, 4, 14, 51, 71, 76, 19,…\n",
      "$ HOURLYRelativeHumidity <dbl> 46, 48, 89, 48, 61, 79, 51, 65, 90, 94, 79, 37…\n",
      "$ HOURLYDRYBULBTEMPF     <dbl> 83, 53, 36, 36, 39, 41, 19, 24, 54, 73, 83, 44…\n",
      "$ HOURLYWETBULBTEMPF     <dbl> 68, 44, 35, 30, 34, 38, 15, 21, 52, 72, 78, 35…\n",
      "$ HOURLYPrecip           <chr> \"0.00\", \"0.00\", \"0.00\", \"0.00\", \"T\", \"0.00\", \"…\n",
      "$ HOURLYWindSpeed        <dbl> 13, 6, 13, 14, 11, 6, 0, 11, 11, 5, 21, 7, 17,…\n",
      "$ HOURLYSeaLevelPressure <dbl> 30.01, 30.05, 30.14, 29.82, NA, 29.94, 30.42, …\n",
      "$ HOURLYStationPressure  <dbl> 29.99, 30.03, 30.12, 29.80, 30.50, 29.92, 30.4…\n"
     ]
    }
   ],
   "source": [
    "glimpse(jfk_weather_sample)"
   ]
  },
  {
   "cell_type": "markdown",
   "metadata": {
    "tags": []
   },
   "source": [
    "<a id=\"cell3\"></a>\n",
    "## 3. Select Subset of Columns\n",
    "\n",
    "The end goal of this project will be to predict `HOURLYprecip` (precipitation) using a few other variables. Before you can do this, you first need to preprocess the dataset. Section 3 to section 6 focuses on preprocessing.\n",
    "\n",
    "The first step in preprocessing is to select a subset of data columns and inspect the column types.\n",
    "\n",
    "The key columns that we will explore in this project are:\n",
    "- HOURLYRelativeHumidity\n",
    "- HOURLYDRYBULBTEMPF\n",
    "- HOURLYPrecip\n",
    "- HOURLYWindSpeed\n",
    "- HOURLYStationPressure\n",
    "\n",
    "Data Glossary:\n",
    "- 'HOURLYRelativeHumidity' is the relative humidity given to the nearest whole percentage.\n",
    "- 'HOURLYDRYBULBTEMPF' is the dry-bulb temperature and is commonly used as the standard air temperature reported. It is given here in whole degrees Fahrenheit.\n",
    "- 'HOURLYPrecip' is the amount of precipitation in inches to hundredths over the past hour. For certain automated stations, precipitation will be reported at sub-hourly intervals (e.g. every 15 or 20 minutes) as an accumulated amount of all precipitation within the preceding hour. A “T” indicates a trace amount of precipitation.\n",
    "- 'HOURLYWindSpeed' is the speed of the wind at the time of observation given in miles per hour (mph).\n",
    "- 'HOURLYStationPressure' is the atmospheric pressure observed at the station during the time of observation. Given in inches of Mercury (in Hg).\n",
    "\n",
    "`Select` those five columns and store the modified dataframe as a new variable.\n"
   ]
  },
  {
   "cell_type": "code",
   "execution_count": 12,
   "metadata": {
    "tags": []
   },
   "outputs": [],
   "source": [
    "hourly_data <- jfk_weather_sample %>% \n",
    "select(HOURLYRelativeHumidity, HOURLYDRYBULBTEMPF, HOURLYPrecip, HOURLYWindSpeed, HOURLYStationPressure)\n"
   ]
  },
  {
   "cell_type": "markdown",
   "metadata": {},
   "source": [
    "Show the first 10 rows of this new dataframe.\n"
   ]
  },
  {
   "cell_type": "code",
   "execution_count": 13,
   "metadata": {
    "tags": []
   },
   "outputs": [
    {
     "data": {
      "text/html": [
       "<table>\n",
       "<caption>A tibble: 10 × 5</caption>\n",
       "<thead>\n",
       "\t<tr><th scope=col>HOURLYRelativeHumidity</th><th scope=col>HOURLYDRYBULBTEMPF</th><th scope=col>HOURLYPrecip</th><th scope=col>HOURLYWindSpeed</th><th scope=col>HOURLYStationPressure</th></tr>\n",
       "\t<tr><th scope=col>&lt;dbl&gt;</th><th scope=col>&lt;dbl&gt;</th><th scope=col>&lt;chr&gt;</th><th scope=col>&lt;dbl&gt;</th><th scope=col>&lt;dbl&gt;</th></tr>\n",
       "</thead>\n",
       "<tbody>\n",
       "\t<tr><td>46</td><td>83</td><td>0.00</td><td>13</td><td>29.99</td></tr>\n",
       "\t<tr><td>48</td><td>53</td><td>0.00</td><td> 6</td><td>30.03</td></tr>\n",
       "\t<tr><td>89</td><td>36</td><td>0.00</td><td>13</td><td>30.12</td></tr>\n",
       "\t<tr><td>48</td><td>36</td><td>0.00</td><td>14</td><td>29.80</td></tr>\n",
       "\t<tr><td>61</td><td>39</td><td>T   </td><td>11</td><td>30.50</td></tr>\n",
       "\t<tr><td>79</td><td>41</td><td>0.00</td><td> 6</td><td>29.92</td></tr>\n",
       "\t<tr><td>51</td><td>19</td><td>0.00</td><td> 0</td><td>30.40</td></tr>\n",
       "\t<tr><td>65</td><td>24</td><td>0.00</td><td>11</td><td>30.35</td></tr>\n",
       "\t<tr><td>90</td><td>54</td><td>0.06</td><td>11</td><td>30.03</td></tr>\n",
       "\t<tr><td>94</td><td>73</td><td>NA  </td><td> 5</td><td>29.91</td></tr>\n",
       "</tbody>\n",
       "</table>\n"
      ],
      "text/latex": [
       "A tibble: 10 × 5\n",
       "\\begin{tabular}{lllll}\n",
       " HOURLYRelativeHumidity & HOURLYDRYBULBTEMPF & HOURLYPrecip & HOURLYWindSpeed & HOURLYStationPressure\\\\\n",
       " <dbl> & <dbl> & <chr> & <dbl> & <dbl>\\\\\n",
       "\\hline\n",
       "\t 46 & 83 & 0.00 & 13 & 29.99\\\\\n",
       "\t 48 & 53 & 0.00 &  6 & 30.03\\\\\n",
       "\t 89 & 36 & 0.00 & 13 & 30.12\\\\\n",
       "\t 48 & 36 & 0.00 & 14 & 29.80\\\\\n",
       "\t 61 & 39 & T    & 11 & 30.50\\\\\n",
       "\t 79 & 41 & 0.00 &  6 & 29.92\\\\\n",
       "\t 51 & 19 & 0.00 &  0 & 30.40\\\\\n",
       "\t 65 & 24 & 0.00 & 11 & 30.35\\\\\n",
       "\t 90 & 54 & 0.06 & 11 & 30.03\\\\\n",
       "\t 94 & 73 & NA   &  5 & 29.91\\\\\n",
       "\\end{tabular}\n"
      ],
      "text/markdown": [
       "\n",
       "A tibble: 10 × 5\n",
       "\n",
       "| HOURLYRelativeHumidity &lt;dbl&gt; | HOURLYDRYBULBTEMPF &lt;dbl&gt; | HOURLYPrecip &lt;chr&gt; | HOURLYWindSpeed &lt;dbl&gt; | HOURLYStationPressure &lt;dbl&gt; |\n",
       "|---|---|---|---|---|\n",
       "| 46 | 83 | 0.00 | 13 | 29.99 |\n",
       "| 48 | 53 | 0.00 |  6 | 30.03 |\n",
       "| 89 | 36 | 0.00 | 13 | 30.12 |\n",
       "| 48 | 36 | 0.00 | 14 | 29.80 |\n",
       "| 61 | 39 | T    | 11 | 30.50 |\n",
       "| 79 | 41 | 0.00 |  6 | 29.92 |\n",
       "| 51 | 19 | 0.00 |  0 | 30.40 |\n",
       "| 65 | 24 | 0.00 | 11 | 30.35 |\n",
       "| 90 | 54 | 0.06 | 11 | 30.03 |\n",
       "| 94 | 73 | NA   |  5 | 29.91 |\n",
       "\n"
      ],
      "text/plain": [
       "   HOURLYRelativeHumidity HOURLYDRYBULBTEMPF HOURLYPrecip HOURLYWindSpeed\n",
       "1  46                     83                 0.00         13             \n",
       "2  48                     53                 0.00          6             \n",
       "3  89                     36                 0.00         13             \n",
       "4  48                     36                 0.00         14             \n",
       "5  61                     39                 T            11             \n",
       "6  79                     41                 0.00          6             \n",
       "7  51                     19                 0.00          0             \n",
       "8  65                     24                 0.00         11             \n",
       "9  90                     54                 0.06         11             \n",
       "10 94                     73                 NA            5             \n",
       "   HOURLYStationPressure\n",
       "1  29.99                \n",
       "2  30.03                \n",
       "3  30.12                \n",
       "4  29.80                \n",
       "5  30.50                \n",
       "6  29.92                \n",
       "7  30.40                \n",
       "8  30.35                \n",
       "9  30.03                \n",
       "10 29.91                "
      ]
     },
     "metadata": {},
     "output_type": "display_data"
    }
   ],
   "source": [
    "head(hourly_data,10)"
   ]
  },
  {
   "cell_type": "markdown",
   "metadata": {},
   "source": [
    "<a id=\"cell4\"></a>\n",
    "## 4. Clean Up Columns\n",
    "\n",
    "From the dataframe preview above, we can see that the column `HOURLYPrecip` - which is the hourly measure of precipitation levels - contains both `NA` and `T` values. `T` specifies *trace amounts of precipitation* (meaning essentially no precipitation), while `NA` means *not available*, and is used to denote missing values. Additionally, some values also have \"s\" at the end of them, indicating that the precipitation was snow. \n",
    "\n",
    "Inspect the unique values present in the column `HOURLYPrecip` (with `unique(dataframe$column)`) to see these values.\n"
   ]
  },
  {
   "cell_type": "code",
   "execution_count": 14,
   "metadata": {
    "tags": []
   },
   "outputs": [
    {
     "data": {
      "text/html": [
       "<style>\n",
       ".list-inline {list-style: none; margin:0; padding: 0}\n",
       ".list-inline>li {display: inline-block}\n",
       ".list-inline>li:not(:last-child)::after {content: \"\\00b7\"; padding: 0 .5ex}\n",
       "</style>\n",
       "<ol class=list-inline><li>'0.00'</li><li>'T'</li><li>'0.06'</li><li>'0.03'</li><li>'0.02'</li><li>'0.08'</li><li>'0.01'</li><li>'0.07'</li><li>'0.16'</li><li>'0.09'</li><li>'0.22'</li><li>'0.02s'</li><li>'0.24'</li><li>'0.18'</li><li>'0.05'</li><li>'0.04'</li><li>'0.09s'</li><li>'0.11'</li><li>'0.14'</li><li>'0.25'</li><li>'0.10'</li><li>'0.01s'</li><li>'0.58'</li><li>'0.12'</li><li>'0.13'</li><li>'0.46'</li><li>'1.07'</li><li>'1.19'</li><li>'0.34'</li><li>'0.20'</li><li>'0.36s'</li><li>'0.42'</li><li>'0.17'</li><li>'0.27'</li><li>'0.35'</li><li>'0.31'</li><li>'0.33'</li><li>'0.23'</li><li>'0.26'</li><li>'0.28'</li><li>'0.75'</li><li>'0.19'</li><li>'0.36'</li><li>'0.03s'</li><li>'0.07s'</li><li>'0.54'</li><li>'0.59'</li><li>'0.21'</li></ol>\n"
      ],
      "text/latex": [
       "\\begin{enumerate*}\n",
       "\\item '0.00'\n",
       "\\item 'T'\n",
       "\\item '0.06'\n",
       "\\item '0.03'\n",
       "\\item '0.02'\n",
       "\\item '0.08'\n",
       "\\item '0.01'\n",
       "\\item '0.07'\n",
       "\\item '0.16'\n",
       "\\item '0.09'\n",
       "\\item '0.22'\n",
       "\\item '0.02s'\n",
       "\\item '0.24'\n",
       "\\item '0.18'\n",
       "\\item '0.05'\n",
       "\\item '0.04'\n",
       "\\item '0.09s'\n",
       "\\item '0.11'\n",
       "\\item '0.14'\n",
       "\\item '0.25'\n",
       "\\item '0.10'\n",
       "\\item '0.01s'\n",
       "\\item '0.58'\n",
       "\\item '0.12'\n",
       "\\item '0.13'\n",
       "\\item '0.46'\n",
       "\\item '1.07'\n",
       "\\item '1.19'\n",
       "\\item '0.34'\n",
       "\\item '0.20'\n",
       "\\item '0.36s'\n",
       "\\item '0.42'\n",
       "\\item '0.17'\n",
       "\\item '0.27'\n",
       "\\item '0.35'\n",
       "\\item '0.31'\n",
       "\\item '0.33'\n",
       "\\item '0.23'\n",
       "\\item '0.26'\n",
       "\\item '0.28'\n",
       "\\item '0.75'\n",
       "\\item '0.19'\n",
       "\\item '0.36'\n",
       "\\item '0.03s'\n",
       "\\item '0.07s'\n",
       "\\item '0.54'\n",
       "\\item '0.59'\n",
       "\\item '0.21'\n",
       "\\end{enumerate*}\n"
      ],
      "text/markdown": [
       "1. '0.00'\n",
       "2. 'T'\n",
       "3. '0.06'\n",
       "4. '0.03'\n",
       "5. '0.02'\n",
       "6. '0.08'\n",
       "7. '0.01'\n",
       "8. '0.07'\n",
       "9. '0.16'\n",
       "10. '0.09'\n",
       "11. '0.22'\n",
       "12. '0.02s'\n",
       "13. '0.24'\n",
       "14. '0.18'\n",
       "15. '0.05'\n",
       "16. '0.04'\n",
       "17. '0.09s'\n",
       "18. '0.11'\n",
       "19. '0.14'\n",
       "20. '0.25'\n",
       "21. '0.10'\n",
       "22. '0.01s'\n",
       "23. '0.58'\n",
       "24. '0.12'\n",
       "25. '0.13'\n",
       "26. '0.46'\n",
       "27. '1.07'\n",
       "28. '1.19'\n",
       "29. '0.34'\n",
       "30. '0.20'\n",
       "31. '0.36s'\n",
       "32. '0.42'\n",
       "33. '0.17'\n",
       "34. '0.27'\n",
       "35. '0.35'\n",
       "36. '0.31'\n",
       "37. '0.33'\n",
       "38. '0.23'\n",
       "39. '0.26'\n",
       "40. '0.28'\n",
       "41. '0.75'\n",
       "42. '0.19'\n",
       "43. '0.36'\n",
       "44. '0.03s'\n",
       "45. '0.07s'\n",
       "46. '0.54'\n",
       "47. '0.59'\n",
       "48. '0.21'\n",
       "\n",
       "\n"
      ],
      "text/plain": [
       " [1] \"0.00\"  \"T\"     \"0.06\"  \"0.03\"  \"0.02\"  \"0.08\"  \"0.01\"  \"0.07\"  \"0.16\" \n",
       "[10] \"0.09\"  \"0.22\"  \"0.02s\" \"0.24\"  \"0.18\"  \"0.05\"  \"0.04\"  \"0.09s\" \"0.11\" \n",
       "[19] \"0.14\"  \"0.25\"  \"0.10\"  \"0.01s\" \"0.58\"  \"0.12\"  \"0.13\"  \"0.46\"  \"1.07\" \n",
       "[28] \"1.19\"  \"0.34\"  \"0.20\"  \"0.36s\" \"0.42\"  \"0.17\"  \"0.27\"  \"0.35\"  \"0.31\" \n",
       "[37] \"0.33\"  \"0.23\"  \"0.26\"  \"0.28\"  \"0.75\"  \"0.19\"  \"0.36\"  \"0.03s\" \"0.07s\"\n",
       "[46] \"0.54\"  \"0.59\"  \"0.21\" "
      ]
     },
     "metadata": {},
     "output_type": "display_data"
    }
   ],
   "source": [
    "# unique(hourly_data$HOURLYPrecip)\n",
    "# running the `unique` command above shows us that there are still some \"NA\" values, so we have to run this additional command:\n",
    "hourly_data <- na.omit(hourly_data) # Remove rows with missing values from any variable\n",
    "# now we run it again...\n",
    "unique(hourly_data$HOURLYPrecip) #... and we see the \"NA\"s are gone"
   ]
  },
  {
   "cell_type": "markdown",
   "metadata": {},
   "source": [
    "Having characters in values (like the \"T\" and \"s\" that you see in the unique values) will cause problems when you create a model because values for precipitation should be numerical. So you need to fix these values that have characters. \n",
    "\n",
    "Now, for the column `HOURLYPrecip`:\n",
    "1. Replace all the `T` values with \"0.0\" and \n",
    "2. Remove \"s\" from values like \"0.02s\". In R, you can use the method `str_remove(column, pattern = \"s$\")` to remove the character \"s\" from the end of values. The \"$\" tells R to match to the end of values. The `pattern` is a regex pattern. Look at [here](https://www.rdocumentation.org/packages/stringi/versions/1.5.3/topics/about_search_regex) for more information about regex and matching to strings in R.\n",
    "\n",
    "Remember that you can use `tidyverse`'s  `mutate()` to update columns.\n",
    "\n",
    "You can check your work by checking if unique values of `HOURLYPrecip` still contain any `T` or `s`. Store the modified dataframe as a new variable.\n"
   ]
  },
  {
   "cell_type": "code",
   "execution_count": 15,
   "metadata": {
    "tags": []
   },
   "outputs": [],
   "source": [
    "hourly_data <- hourly_data %>%\n",
    "  mutate(\n",
    "    HOURLYPrecip = str_remove(HOURLYPrecip, \"s$\"),  # Remove trailing 's'\n",
    "    HOURLYPrecip = str_replace(HOURLYPrecip, \"^T$\", \"0.0\")  # Replace 'T' with '0.0'\n",
    "  )"
   ]
  },
  {
   "cell_type": "code",
   "execution_count": 16,
   "metadata": {
    "tags": []
   },
   "outputs": [
    {
     "data": {
      "text/html": [
       "<style>\n",
       ".list-inline {list-style: none; margin:0; padding: 0}\n",
       ".list-inline>li {display: inline-block}\n",
       ".list-inline>li:not(:last-child)::after {content: \"\\00b7\"; padding: 0 .5ex}\n",
       "</style>\n",
       "<ol class=list-inline><li>'0.00'</li><li>'0.0'</li><li>'0.06'</li><li>'0.03'</li><li>'0.02'</li><li>'0.08'</li><li>'0.01'</li><li>'0.07'</li><li>'0.16'</li><li>'0.09'</li><li>'0.22'</li><li>'0.24'</li><li>'0.18'</li><li>'0.05'</li><li>'0.04'</li><li>'0.11'</li><li>'0.14'</li><li>'0.25'</li><li>'0.10'</li><li>'0.58'</li><li>'0.12'</li><li>'0.13'</li><li>'0.46'</li><li>'1.07'</li><li>'1.19'</li><li>'0.34'</li><li>'0.20'</li><li>'0.36'</li><li>'0.42'</li><li>'0.17'</li><li>'0.27'</li><li>'0.35'</li><li>'0.31'</li><li>'0.33'</li><li>'0.23'</li><li>'0.26'</li><li>'0.28'</li><li>'0.75'</li><li>'0.19'</li><li>'0.54'</li><li>'0.59'</li><li>'0.21'</li></ol>\n"
      ],
      "text/latex": [
       "\\begin{enumerate*}\n",
       "\\item '0.00'\n",
       "\\item '0.0'\n",
       "\\item '0.06'\n",
       "\\item '0.03'\n",
       "\\item '0.02'\n",
       "\\item '0.08'\n",
       "\\item '0.01'\n",
       "\\item '0.07'\n",
       "\\item '0.16'\n",
       "\\item '0.09'\n",
       "\\item '0.22'\n",
       "\\item '0.24'\n",
       "\\item '0.18'\n",
       "\\item '0.05'\n",
       "\\item '0.04'\n",
       "\\item '0.11'\n",
       "\\item '0.14'\n",
       "\\item '0.25'\n",
       "\\item '0.10'\n",
       "\\item '0.58'\n",
       "\\item '0.12'\n",
       "\\item '0.13'\n",
       "\\item '0.46'\n",
       "\\item '1.07'\n",
       "\\item '1.19'\n",
       "\\item '0.34'\n",
       "\\item '0.20'\n",
       "\\item '0.36'\n",
       "\\item '0.42'\n",
       "\\item '0.17'\n",
       "\\item '0.27'\n",
       "\\item '0.35'\n",
       "\\item '0.31'\n",
       "\\item '0.33'\n",
       "\\item '0.23'\n",
       "\\item '0.26'\n",
       "\\item '0.28'\n",
       "\\item '0.75'\n",
       "\\item '0.19'\n",
       "\\item '0.54'\n",
       "\\item '0.59'\n",
       "\\item '0.21'\n",
       "\\end{enumerate*}\n"
      ],
      "text/markdown": [
       "1. '0.00'\n",
       "2. '0.0'\n",
       "3. '0.06'\n",
       "4. '0.03'\n",
       "5. '0.02'\n",
       "6. '0.08'\n",
       "7. '0.01'\n",
       "8. '0.07'\n",
       "9. '0.16'\n",
       "10. '0.09'\n",
       "11. '0.22'\n",
       "12. '0.24'\n",
       "13. '0.18'\n",
       "14. '0.05'\n",
       "15. '0.04'\n",
       "16. '0.11'\n",
       "17. '0.14'\n",
       "18. '0.25'\n",
       "19. '0.10'\n",
       "20. '0.58'\n",
       "21. '0.12'\n",
       "22. '0.13'\n",
       "23. '0.46'\n",
       "24. '1.07'\n",
       "25. '1.19'\n",
       "26. '0.34'\n",
       "27. '0.20'\n",
       "28. '0.36'\n",
       "29. '0.42'\n",
       "30. '0.17'\n",
       "31. '0.27'\n",
       "32. '0.35'\n",
       "33. '0.31'\n",
       "34. '0.33'\n",
       "35. '0.23'\n",
       "36. '0.26'\n",
       "37. '0.28'\n",
       "38. '0.75'\n",
       "39. '0.19'\n",
       "40. '0.54'\n",
       "41. '0.59'\n",
       "42. '0.21'\n",
       "\n",
       "\n"
      ],
      "text/plain": [
       " [1] \"0.00\" \"0.0\"  \"0.06\" \"0.03\" \"0.02\" \"0.08\" \"0.01\" \"0.07\" \"0.16\" \"0.09\"\n",
       "[11] \"0.22\" \"0.24\" \"0.18\" \"0.05\" \"0.04\" \"0.11\" \"0.14\" \"0.25\" \"0.10\" \"0.58\"\n",
       "[21] \"0.12\" \"0.13\" \"0.46\" \"1.07\" \"1.19\" \"0.34\" \"0.20\" \"0.36\" \"0.42\" \"0.17\"\n",
       "[31] \"0.27\" \"0.35\" \"0.31\" \"0.33\" \"0.23\" \"0.26\" \"0.28\" \"0.75\" \"0.19\" \"0.54\"\n",
       "[41] \"0.59\" \"0.21\""
      ]
     },
     "metadata": {},
     "output_type": "display_data"
    }
   ],
   "source": [
    "unique(hourly_data$HOURLYPrecip)"
   ]
  },
  {
   "cell_type": "markdown",
   "metadata": {},
   "source": [
    "<a id=\"cell5\"></a>\n",
    "## 5. Convert Columns to Numerical Types\n",
    "Now that you have removed the characters in the `HOURLYPrecip` column, you can safely covert the column to a numeric type.\n",
    "\n",
    "First, check the types of the columns. You will notice that all are `dbl` (double or numeric) except for `HOURLYPrecip`, which is `chr` (character or string). Use the `glimpse` function from Tidyverse.\n"
   ]
  },
  {
   "cell_type": "code",
   "execution_count": 17,
   "metadata": {
    "tags": []
   },
   "outputs": [
    {
     "name": "stdout",
     "output_type": "stream",
     "text": [
      "Rows: 4,063\n",
      "Columns: 5\n",
      "$ HOURLYRelativeHumidity <dbl> 46, 48, 89, 48, 61, 79, 51, 65, 90, 37, 72, 47…\n",
      "$ HOURLYDRYBULBTEMPF     <dbl> 83, 53, 36, 36, 39, 41, 19, 24, 54, 44, 57, 78…\n",
      "$ HOURLYPrecip           <chr> \"0.00\", \"0.00\", \"0.00\", \"0.00\", \"0.0\", \"0.00\",…\n",
      "$ HOURLYWindSpeed        <dbl> 13, 6, 13, 14, 11, 6, 0, 11, 11, 7, 17, 8, 3, …\n",
      "$ HOURLYStationPressure  <dbl> 29.99, 30.03, 30.12, 29.80, 30.50, 29.92, 30.4…\n"
     ]
    }
   ],
   "source": [
    "glimpse(hourly_data)"
   ]
  },
  {
   "cell_type": "markdown",
   "metadata": {},
   "source": [
    "Convert `HOURLYPrecip` to the `numeric` type and store the cleaned dataframe as a new variable.\n"
   ]
  },
  {
   "cell_type": "code",
   "execution_count": 18,
   "metadata": {
    "tags": []
   },
   "outputs": [],
   "source": [
    "hourly_data <- hourly_data %>%\n",
    "  mutate(HOURLYPrecip = as.numeric(HOURLYPrecip))"
   ]
  },
  {
   "cell_type": "markdown",
   "metadata": {},
   "source": [
    "We can now see that all fields have numerical data type.\n"
   ]
  },
  {
   "cell_type": "code",
   "execution_count": 19,
   "metadata": {
    "tags": []
   },
   "outputs": [
    {
     "name": "stdout",
     "output_type": "stream",
     "text": [
      "Rows: 4,063\n",
      "Columns: 5\n",
      "$ HOURLYRelativeHumidity <dbl> 46, 48, 89, 48, 61, 79, 51, 65, 90, 37, 72, 47…\n",
      "$ HOURLYDRYBULBTEMPF     <dbl> 83, 53, 36, 36, 39, 41, 19, 24, 54, 44, 57, 78…\n",
      "$ HOURLYPrecip           <dbl> 0.00, 0.00, 0.00, 0.00, 0.00, 0.00, 0.00, 0.00…\n",
      "$ HOURLYWindSpeed        <dbl> 13, 6, 13, 14, 11, 6, 0, 11, 11, 7, 17, 8, 3, …\n",
      "$ HOURLYStationPressure  <dbl> 29.99, 30.03, 30.12, 29.80, 30.50, 29.92, 30.4…\n"
     ]
    }
   ],
   "source": [
    "glimpse(hourly_data)"
   ]
  },
  {
   "cell_type": "markdown",
   "metadata": {},
   "source": [
    "<a id=\"cell6\"></a>\n",
    "## 6. Rename Columns\n",
    "Let's rename the following columns as:\n",
    "- 'HOURLYRelativeHumidity' to 'relative_humidity'\n",
    "- 'HOURLYDRYBULBTEMPF' to 'dry_bulb_temp_f'\n",
    "- 'HOURLYPrecip' to 'precip'\n",
    "- 'HOURLYWindSpeed' to 'wind_speed'\n",
    "- 'HOURLYStationPressure' to 'station_pressure'\n",
    "\n",
    "You can use `dplyr::rename()`. Then, store the final dataframe as a new variable.\n"
   ]
  },
  {
   "cell_type": "code",
   "execution_count": 20,
   "metadata": {
    "tags": []
   },
   "outputs": [],
   "source": [
    "hourly_data <- dplyr::rename(hourly_data, relative_humidity = HOURLYRelativeHumidity, dry_bulb_temp_f = HOURLYDRYBULBTEMPF, precip = HOURLYPrecip, wind_speed = HOURLYWindSpeed, station_pressure = HOURLYStationPressure)"
   ]
  },
  {
   "cell_type": "markdown",
   "metadata": {},
   "source": [
    "<a id=\"cell7\"></a>\n",
    "## 7. Exploratory Data Analysis\n",
    "Now that you have finished preprocessing the dataset, you can can start exploring the columns more.\n",
    "\n",
    "First, split the data into a training and testing set. Splitting a dataset is done randomly, so to have reproducible results set the seed = 1234. Also, use 80% of the data for training.\n"
   ]
  },
  {
   "cell_type": "code",
   "execution_count": 21,
   "metadata": {
    "tags": []
   },
   "outputs": [
    {
     "data": {
      "text/html": [
       "<table>\n",
       "<caption>A tibble: 6 × 5</caption>\n",
       "<thead>\n",
       "\t<tr><th scope=col>relative_humidity</th><th scope=col>dry_bulb_temp_f</th><th scope=col>precip</th><th scope=col>wind_speed</th><th scope=col>station_pressure</th></tr>\n",
       "\t<tr><th scope=col>&lt;dbl&gt;</th><th scope=col>&lt;dbl&gt;</th><th scope=col>&lt;dbl&gt;</th><th scope=col>&lt;dbl&gt;</th><th scope=col>&lt;dbl&gt;</th></tr>\n",
       "</thead>\n",
       "<tbody>\n",
       "\t<tr><td>46</td><td>83</td><td>0.00</td><td>13</td><td>29.99</td></tr>\n",
       "\t<tr><td>48</td><td>36</td><td>0.00</td><td>14</td><td>29.80</td></tr>\n",
       "\t<tr><td>61</td><td>39</td><td>0.00</td><td>11</td><td>30.50</td></tr>\n",
       "\t<tr><td>79</td><td>41</td><td>0.00</td><td> 6</td><td>29.92</td></tr>\n",
       "\t<tr><td>51</td><td>19</td><td>0.00</td><td> 0</td><td>30.40</td></tr>\n",
       "\t<tr><td>90</td><td>54</td><td>0.06</td><td>11</td><td>30.03</td></tr>\n",
       "</tbody>\n",
       "</table>\n"
      ],
      "text/latex": [
       "A tibble: 6 × 5\n",
       "\\begin{tabular}{lllll}\n",
       " relative\\_humidity & dry\\_bulb\\_temp\\_f & precip & wind\\_speed & station\\_pressure\\\\\n",
       " <dbl> & <dbl> & <dbl> & <dbl> & <dbl>\\\\\n",
       "\\hline\n",
       "\t 46 & 83 & 0.00 & 13 & 29.99\\\\\n",
       "\t 48 & 36 & 0.00 & 14 & 29.80\\\\\n",
       "\t 61 & 39 & 0.00 & 11 & 30.50\\\\\n",
       "\t 79 & 41 & 0.00 &  6 & 29.92\\\\\n",
       "\t 51 & 19 & 0.00 &  0 & 30.40\\\\\n",
       "\t 90 & 54 & 0.06 & 11 & 30.03\\\\\n",
       "\\end{tabular}\n"
      ],
      "text/markdown": [
       "\n",
       "A tibble: 6 × 5\n",
       "\n",
       "| relative_humidity &lt;dbl&gt; | dry_bulb_temp_f &lt;dbl&gt; | precip &lt;dbl&gt; | wind_speed &lt;dbl&gt; | station_pressure &lt;dbl&gt; |\n",
       "|---|---|---|---|---|\n",
       "| 46 | 83 | 0.00 | 13 | 29.99 |\n",
       "| 48 | 36 | 0.00 | 14 | 29.80 |\n",
       "| 61 | 39 | 0.00 | 11 | 30.50 |\n",
       "| 79 | 41 | 0.00 |  6 | 29.92 |\n",
       "| 51 | 19 | 0.00 |  0 | 30.40 |\n",
       "| 90 | 54 | 0.06 | 11 | 30.03 |\n",
       "\n"
      ],
      "text/plain": [
       "  relative_humidity dry_bulb_temp_f precip wind_speed station_pressure\n",
       "1 46                83              0.00   13         29.99           \n",
       "2 48                36              0.00   14         29.80           \n",
       "3 61                39              0.00   11         30.50           \n",
       "4 79                41              0.00    6         29.92           \n",
       "5 51                19              0.00    0         30.40           \n",
       "6 90                54              0.06   11         30.03           "
      ]
     },
     "metadata": {},
     "output_type": "display_data"
    },
    {
     "data": {
      "text/html": [
       "<table>\n",
       "<caption>A tibble: 6 × 5</caption>\n",
       "<thead>\n",
       "\t<tr><th scope=col>relative_humidity</th><th scope=col>dry_bulb_temp_f</th><th scope=col>precip</th><th scope=col>wind_speed</th><th scope=col>station_pressure</th></tr>\n",
       "\t<tr><th scope=col>&lt;dbl&gt;</th><th scope=col>&lt;dbl&gt;</th><th scope=col>&lt;dbl&gt;</th><th scope=col>&lt;dbl&gt;</th><th scope=col>&lt;dbl&gt;</th></tr>\n",
       "</thead>\n",
       "<tbody>\n",
       "\t<tr><td>48</td><td>53</td><td>0</td><td> 6</td><td>30.03</td></tr>\n",
       "\t<tr><td>89</td><td>36</td><td>0</td><td>13</td><td>30.12</td></tr>\n",
       "\t<tr><td>65</td><td>24</td><td>0</td><td>11</td><td>30.35</td></tr>\n",
       "\t<tr><td>47</td><td>78</td><td>0</td><td> 8</td><td>30.16</td></tr>\n",
       "\t<tr><td>84</td><td>75</td><td>0</td><td> 3</td><td>30.17</td></tr>\n",
       "\t<tr><td>57</td><td>37</td><td>0</td><td>11</td><td>30.01</td></tr>\n",
       "</tbody>\n",
       "</table>\n"
      ],
      "text/latex": [
       "A tibble: 6 × 5\n",
       "\\begin{tabular}{lllll}\n",
       " relative\\_humidity & dry\\_bulb\\_temp\\_f & precip & wind\\_speed & station\\_pressure\\\\\n",
       " <dbl> & <dbl> & <dbl> & <dbl> & <dbl>\\\\\n",
       "\\hline\n",
       "\t 48 & 53 & 0 &  6 & 30.03\\\\\n",
       "\t 89 & 36 & 0 & 13 & 30.12\\\\\n",
       "\t 65 & 24 & 0 & 11 & 30.35\\\\\n",
       "\t 47 & 78 & 0 &  8 & 30.16\\\\\n",
       "\t 84 & 75 & 0 &  3 & 30.17\\\\\n",
       "\t 57 & 37 & 0 & 11 & 30.01\\\\\n",
       "\\end{tabular}\n"
      ],
      "text/markdown": [
       "\n",
       "A tibble: 6 × 5\n",
       "\n",
       "| relative_humidity &lt;dbl&gt; | dry_bulb_temp_f &lt;dbl&gt; | precip &lt;dbl&gt; | wind_speed &lt;dbl&gt; | station_pressure &lt;dbl&gt; |\n",
       "|---|---|---|---|---|\n",
       "| 48 | 53 | 0 |  6 | 30.03 |\n",
       "| 89 | 36 | 0 | 13 | 30.12 |\n",
       "| 65 | 24 | 0 | 11 | 30.35 |\n",
       "| 47 | 78 | 0 |  8 | 30.16 |\n",
       "| 84 | 75 | 0 |  3 | 30.17 |\n",
       "| 57 | 37 | 0 | 11 | 30.01 |\n",
       "\n"
      ],
      "text/plain": [
       "  relative_humidity dry_bulb_temp_f precip wind_speed station_pressure\n",
       "1 48                53              0       6         30.03           \n",
       "2 89                36              0      13         30.12           \n",
       "3 65                24              0      11         30.35           \n",
       "4 47                78              0       8         30.16           \n",
       "5 84                75              0       3         30.17           \n",
       "6 57                37              0      11         30.01           "
      ]
     },
     "metadata": {},
     "output_type": "display_data"
    }
   ],
   "source": [
    "library(rsample)\n",
    "set.seed(1234)\n",
    "\n",
    "split <- initial_split(hourly_data, prop = 0.8)\n",
    "training_data <- training(split)\n",
    "testing_data <- testing(split)\n",
    "\n",
    "head(training_data)\n",
    "head(testing_data)"
   ]
  },
  {
   "cell_type": "markdown",
   "metadata": {},
   "source": [
    "Next, looking at just the **training set**, plot histograms or box plots of the variables (`relative_humidity`, `dry_bulb_temp_f`, `precip`, `wind_speed`,  `station_pressure`) for an intial look of their distributions using `tidyverse`'s `ggplot`. Leave the testing set as is because it is good practice to not see the testing set until evaluating the final model.\n"
   ]
  },
  {
   "cell_type": "code",
   "execution_count": 22,
   "metadata": {
    "tags": []
   },
   "outputs": [
    {
     "data": {},
     "metadata": {},
     "output_type": "display_data"
    },
    {
     "data": {
      "image/png": "[encoded data removed]",
      "text/plain": [
       "plot without title"
      ]
     },
     "metadata": {},
     "output_type": "display_data",
     "source": "R display func"
    }
   ],
   "source": [
    "# Reshape the entire dataframe to long format\n",
    "long_data <- training_data %>%\n",
    "  pivot_longer(cols = everything(), names_to = \"Variable\", values_to = \"Value\")\n",
    "\n",
    "# Generate faceted histograms for all variables\n",
    "ggplot(long_data, aes(x = Value)) +\n",
    "  geom_histogram(binwidth = 5, fill = \"blue\", color = \"black\") +\n",
    "  facet_wrap(~ Variable, scales = \"free_x\") +\n",
    "  labs(\n",
    "    title = \"Histograms of All Variables\",\n",
    "    x = \"Value\",\n",
    "    y = \"Frequency\"\n",
    "  ) +\n",
    "  theme_minimal()"
   ]
  },
  {
   "cell_type": "markdown",
   "metadata": {},
   "source": [
    "<a id=\"cell8\"></a>\n",
    "## 8. Linear Regression \n",
    "After exploring the dataset more, you are now ready to start creating models to predict the precipitation (`precip`).\n",
    "\n",
    "Create simple linear regression models where `precip` is the response variable and each of `relative_humidity`, `dry_bulb_temp_f`,`wind_speed` or `station_pressure` will be a predictor variable, e.g. `precip ~ relative_humidity`, `precip ~ dry_bulb_temp_f`, etc. for a total of four simple models. \n",
    "Additionally, visualize each simple model with a scatter plot.\n"
   ]
  },
  {
   "cell_type": "code",
   "execution_count": 23,
   "metadata": {
    "tags": []
   },
   "outputs": [
    {
     "data": {
      "text/plain": [
       "parsnip model object\n",
       "\n",
       "Fit time:  5ms \n",
       "\n",
       "Call:\n",
       "stats::lm(formula = formula, data = data)\n",
       "\n",
       "Coefficients:\n",
       "      (Intercept)  relative_humidity  \n",
       "       -0.0208240          0.0004175  \n"
      ]
     },
     "metadata": {},
     "output_type": "display_data"
    },
    {
     "name": "stderr",
     "output_type": "stream",
     "text": [
      "`geom_smooth()` using formula 'y ~ x'\n"
     ]
    },
    {
     "data": {},
     "metadata": {},
     "output_type": "display_data"
    },
    {
     "data": {
      "image/png": "[encoded data removed]",
      "text/plain": [
       "plot without title"
      ]
     },
     "metadata": {},
     "output_type": "display_data",
     "source": "R display func"
    }
   ],
   "source": [
    "# precip ~ relative_humidity\n",
    "# Pick linear regression\n",
    "lm_spec <- linear_reg() %>%\n",
    "    set_engine(engine = \"lm\")\n",
    "\n",
    "training_rel_hum <- lm_spec %>% \n",
    "    fit(precip ~ relative_humidity, data = training_data)\n",
    "training_rel_hum\n",
    "\n",
    "ggplot(training_data, aes(x = relative_humidity, y = precip)) +\n",
    "  geom_point() +  # Add scatter points\n",
    "  geom_smooth(method = \"lm\", se = TRUE, color = \"blue\") +  # Add regression line\n",
    "  labs(\n",
    "    title = \"Scatter Plot of Precipitations with Regression Line\",\n",
    "    x = \"relative_humidity\",\n",
    "    y = \"precip\"\n",
    "  ) +\n",
    "  theme_minimal()\n",
    "\n",
    "# we also define this model with the testing data\n",
    "testing_rel_hum <- lm_spec %>% \n",
    "    fit(precip ~ relative_humidity, data = testing_data)"
   ]
  },
  {
   "cell_type": "code",
   "execution_count": 24,
   "metadata": {
    "tags": []
   },
   "outputs": [
    {
     "data": {
      "text/plain": [
       "parsnip model object\n",
       "\n",
       "Fit time:  3ms \n",
       "\n",
       "Call:\n",
       "stats::lm(formula = formula, data = data)\n",
       "\n",
       "Coefficients:\n",
       "    (Intercept)  dry_bulb_temp_f  \n",
       "       0.004313         0.000043  \n"
      ]
     },
     "metadata": {},
     "output_type": "display_data"
    },
    {
     "name": "stderr",
     "output_type": "stream",
     "text": [
      "`geom_smooth()` using formula 'y ~ x'\n"
     ]
    },
    {
     "data": {},
     "metadata": {},
     "output_type": "display_data"
    },
    {
     "data": {
      "image/png": "[encoded data removed]",
      "text/plain": [
       "plot without title"
      ]
     },
     "metadata": {},
     "output_type": "display_data",
     "source": "R display func"
    }
   ],
   "source": [
    "# precip ~ dry_bulb_temp_f\n",
    "training_dry_temp <- lm_spec %>% \n",
    "    fit(precip ~ dry_bulb_temp_f, data = training_data)\n",
    "training_dry_temp\n",
    "\n",
    "ggplot(training_data, aes(x = dry_bulb_temp_f, y = precip)) +\n",
    "  geom_point() +  # Add scatter points\n",
    "  geom_smooth(method = \"lm\", se = TRUE, color = \"blue\") +  # Add regression line\n",
    "  labs(\n",
    "    title = \"Scatter Plot of Precipitations with Regression Line\",\n",
    "    x = \"dry_bulb_temp_f\",\n",
    "    y = \"precip\"\n",
    "  ) +\n",
    "  theme_minimal()\n",
    "\n",
    "# we also define this model with the testing data\n",
    "testing_dry_temp <- lm_spec %>% \n",
    "    fit(precip ~ dry_bulb_temp_f, data = testing_data)"
   ]
  },
  {
   "cell_type": "code",
   "execution_count": 25,
   "metadata": {
    "tags": []
   },
   "outputs": [
    {
     "data": {
      "text/plain": [
       "parsnip model object\n",
       "\n",
       "Fit time:  5ms \n",
       "\n",
       "Call:\n",
       "stats::lm(formula = formula, data = data)\n",
       "\n",
       "Coefficients:\n",
       "(Intercept)   wind_speed  \n",
       "  0.0006257    0.0005342  \n"
      ]
     },
     "metadata": {},
     "output_type": "display_data"
    },
    {
     "name": "stderr",
     "output_type": "stream",
     "text": [
      "`geom_smooth()` using formula 'y ~ x'\n"
     ]
    },
    {
     "data": {},
     "metadata": {},
     "output_type": "display_data"
    },
    {
     "data": {
      "image/png": "[encoded data removed]",
      "text/plain": [
       "plot without title"
      ]
     },
     "metadata": {},
     "output_type": "display_data",
     "source": "R display func"
    }
   ],
   "source": [
    "# precip ~ wind_speed\n",
    "training_wind_speed <- lm_spec %>% \n",
    "    fit(precip ~ wind_speed, data = training_data)\n",
    "training_wind_speed\n",
    "\n",
    "ggplot(training_data, aes(x = wind_speed, y = precip)) +\n",
    "  geom_point() +  # Add scatter points\n",
    "  geom_smooth(method = \"lm\", se = TRUE, color = \"blue\") +  # Add regression line\n",
    "  labs(\n",
    "    title = \"Scatter Plot of Precipitations with Regression Line\",\n",
    "    x = \"wind_speed\",\n",
    "    y = \"precip\"\n",
    "  ) +\n",
    "  theme_minimal()\n",
    "\n",
    "# we also define this model with the testing data\n",
    "testing_wind_speed <- lm_spec %>% \n",
    "    fit(precip ~ wind_speed, data = testing_data)"
   ]
  },
  {
   "cell_type": "code",
   "execution_count": 26,
   "metadata": {
    "tags": []
   },
   "outputs": [
    {
     "data": {
      "text/plain": [
       "parsnip model object\n",
       "\n",
       "Fit time:  2ms \n",
       "\n",
       "Call:\n",
       "stats::lm(formula = formula, data = data)\n",
       "\n",
       "Coefficients:\n",
       "     (Intercept)  station_pressure  \n",
       "         0.70517          -0.02329  \n"
      ]
     },
     "metadata": {},
     "output_type": "display_data"
    },
    {
     "name": "stderr",
     "output_type": "stream",
     "text": [
      "`geom_smooth()` using formula 'y ~ x'\n"
     ]
    },
    {
     "data": {},
     "metadata": {},
     "output_type": "display_data"
    },
    {
     "data": {
      "image/png": "[encoded data removed]",
      "text/plain": [
       "plot without title"
      ]
     },
     "metadata": {},
     "output_type": "display_data",
     "source": "R display func"
    }
   ],
   "source": [
    "# precip ~ station_pressure\n",
    "\n",
    "training_pressure <- lm_spec %>% \n",
    "    fit(precip ~ station_pressure, data = training_data)\n",
    "training_pressure\n",
    "\n",
    "ggplot(training_data, aes(x = station_pressure, y = precip)) +\n",
    "  geom_point() +  # Add scatter points\n",
    "  geom_smooth(method = \"lm\", se = TRUE, color = \"blue\") +  # Add regression line\n",
    "  labs(\n",
    "    title = \"Scatter Plot of Precipitations with Regression Line\",\n",
    "    x = \"station_pressure\",\n",
    "    y = \"precip\"\n",
    "  ) +\n",
    "  theme_minimal()\n",
    "\n",
    "\n",
    "# we also define this model with the testing data\n",
    "testing_pressure <- lm_spec %>% \n",
    "    fit(precip ~ station_pressure, data = testing_data)"
   ]
  },
  {
   "cell_type": "markdown",
   "metadata": {
    "tags": []
   },
   "source": [
    "<a id=\"cell9\"></a>\n",
    "## 9. Improve the Model\n",
    "Now, try improving the simple models you created in the previous section. \n",
    "\n",
    "Create at least two more models, each model should use at least one of the different techniques:\n",
    "1. Add more features/predictors\n",
    "2. Add regularization (L1, L2 or a mix)\n",
    "3. Add a polynomial component\n",
    "\n",
    "Also, for each of the models you create, check the model performance using the **training set** and a metric like MSE, RMSE, or R-squared.\n",
    "\n",
    "Consider using `tidymodels` if you choose to add regularization and tune lambda.\n"
   ]
  },
  {
   "cell_type": "code",
   "execution_count": 27,
   "metadata": {
    "tags": []
   },
   "outputs": [
    {
     "data": {
      "text/plain": [
       "parsnip model object\n",
       "\n",
       "Fit time:  3ms \n",
       "\n",
       "Call:\n",
       "stats::lm(formula = formula, data = data)\n",
       "\n",
       "Coefficients:\n",
       "           (Intercept)       relative_humidity  I(relative_humidity^2)  \n",
       "             3.635e-02              -1.574e-03               1.563e-05  \n"
      ]
     },
     "metadata": {},
     "output_type": "display_data"
    },
    {
     "data": {
      "text/plain": [
       "parsnip model object\n",
       "\n",
       "Fit time:  3ms \n",
       "\n",
       "Call:\n",
       "stats::lm(formula = formula, data = data)\n",
       "\n",
       "Coefficients:\n",
       "                       (Intercept)                   relative_humidity  \n",
       "                        -1.868e+00                           3.165e-02  \n",
       "                   dry_bulb_temp_f                          wind_speed  \n",
       "                         6.404e-05                           7.607e-04  \n",
       "                  station_pressure  relative_humidity:station_pressure  \n",
       "                         6.110e-02                          -1.041e-03  \n"
      ]
     },
     "metadata": {},
     "output_type": "display_data"
    },
    {
     "name": "stdout",
     "output_type": "stream",
     "text": [
      "Relative Humidity model performance \n",
      "MSE: 0.001812124 \n",
      "RMSE: 0.04256904 \n",
      "R-squared: 0.03662046 \n",
      "=========== \n",
      "Relative Humidity with Second Order Term model performance \n",
      "MSE: 0.00177448 \n",
      "RMSE: 0.04212458 \n",
      "R-squared: 0.05663267 \n",
      "=========== \n",
      "Pressure model performance \n",
      "MSE: 0.001849334 \n",
      "RMSE: 0.04300388 \n",
      "R-squared: 0.01683821 \n",
      "=========== \n",
      "All Variables model performance \n",
      "MSE: 0.001754973 \n",
      "RMSE: 0.0418924 \n",
      "R-squared: 0.06700315 \n",
      "=========== \n"
     ]
    }
   ],
   "source": [
    "# model precip on relative_humidity + dry_bulb_temp_f + wind_speed + station_pressure\n",
    "# looking at the data, it seems like a polynomial of degree 2 should capture the non-linear response of precip\n",
    "\n",
    "training_rel_hum_w_2nd_order <- lm_spec %>% \n",
    "    fit(precip ~ relative_humidity + I(relative_humidity^2), data = training_data)\n",
    "training_rel_hum_w_2nd_order\n",
    "\n",
    "# this model uses all variables and the pressure - humidity cross-variable\n",
    "training_all_vars <- lm_spec %>% \n",
    "    fit(precip ~ relative_humidity + dry_bulb_temp_f + wind_speed + station_pressure + station_pressure:relative_humidity, data = training_data)\n",
    "training_all_vars\n",
    "\n",
    "# now let's calculate MSE, RMSE and R2 for a couple of the 1-variable models created so far (relative humidity and station pressure), \n",
    "# as well as the all variables model and the all variables model with 2nd order variables\n",
    "# We use the training data:\n",
    "# Generate predictions on the training data\n",
    "\n",
    "pred_training_rel_hum <- predict(training_rel_hum, new_data = training_data)\n",
    "pred_training_rel_hum_w_2nd_order <- predict(training_rel_hum_w_2nd_order, new_data = training_data)\n",
    "pred_training_pressure <- predict(training_pressure, new_data = training_data)\n",
    "pred_training_all_vars <- predict(training_all_vars, new_data = training_data)\n",
    "\n",
    "# Add predictions to the training data\n",
    "results_training_rel_hum <- training_data %>%\n",
    "  mutate(\n",
    "    .pred_rel_hum = pred_training_rel_hum$.pred,   # Predicted values\n",
    "    residuals_rel_hum = precip - .pred_rel_hum   # Residuals\n",
    "  )\n",
    "results_training_rel_hum_w_2nd_order <- training_data %>%\n",
    "  mutate(\n",
    "    .pred_rel_hum_w_2nd_order = pred_training_rel_hum_w_2nd_order$.pred,\n",
    "    residuals_rel_hum_w_2nd_order = precip - .pred_rel_hum_w_2nd_order\n",
    "  )\n",
    "results_training_pressure <- training_data %>%\n",
    "  mutate(\n",
    "    .pred_pressure = pred_training_pressure$.pred,\n",
    "    residuals_pressure = precip - .pred_pressure\n",
    "  )\n",
    "results_training_all_vars <- training_data %>%\n",
    "  mutate(\n",
    "    .pred_all_vars = pred_training_all_vars$.pred,\n",
    "    residuals_all_vars = precip - .pred_all_vars\n",
    "  )\n",
    "\n",
    "# Calculate MSE\n",
    "mse_training_rel_hum <- mean(results_training_rel_hum$residuals_rel_hum^2)\n",
    "mse_training_rel_hum_w_2nd_order <- mean(results_training_rel_hum_w_2nd_order$residuals_rel_hum_w_2nd_order^2)\n",
    "mse_training_pressure <- mean(results_training_pressure$residuals_pressure^2)\n",
    "mse_training_all_vars <- mean(results_training_all_vars$residuals_all_vars^2)\n",
    "\n",
    "# Calculate RMSE\n",
    "rmse_training_rel_hum <- sqrt(mse_training_rel_hum)\n",
    "rmse_training_rel_hum_w_2nd_order <- sqrt(mse_training_rel_hum_w_2nd_order)\n",
    "rmse_training_pressure <- sqrt(mse_training_pressure)\n",
    "rmse_training_all_vars <- sqrt(mse_training_all_vars)\n",
    "\n",
    "# Calculate R-squared\n",
    "ss_total_training_rel_hum <- sum((training_data$precip - mean(training_data$precip))^2)\n",
    "ss_residual_training_rel_hum <- sum(results_training_rel_hum$residuals_rel_hum^2)\n",
    "r_squared_training_rel_hum <- 1 - (ss_residual_training_rel_hum / ss_total_training_rel_hum)\n",
    "\n",
    "ss_total_training_rel_hum_w_2nd_order <- sum((training_data$precip - mean(training_data$precip))^2)\n",
    "ss_residual_training_rel_hum_w_2nd_order <- sum(results_training_rel_hum_w_2nd_order$residuals_rel_hum_w_2nd_order^2)\n",
    "r_squared_training_rel_hum_w_2nd_order <- 1 - (ss_residual_training_rel_hum_w_2nd_order / ss_total_training_rel_hum_w_2nd_order)\n",
    "\n",
    "ss_total_training_pressure <- sum((training_data$precip - mean(training_data$precip))^2)\n",
    "ss_residual_training_pressure <- sum(results_training_pressure$residuals_pressure^2)\n",
    "r_squared_training_pressure <- 1 - (ss_residual_training_pressure / ss_total_training_pressure)\n",
    "\n",
    "ss_total_training_all_vars <- sum((training_data$precip - mean(training_data$precip))^2)\n",
    "ss_residual_training_all_vars <- sum(results_training_all_vars$residuals_all_vars^2)\n",
    "r_squared_training_all_vars <- 1 - (ss_residual_training_all_vars / ss_total_training_all_vars)\n",
    "\n",
    "# Output results\n",
    "cat('Relative Humidity model performance', '\\n')\n",
    "cat('MSE:', mse_training_rel_hum, '\\n')\n",
    "cat('RMSE:', rmse_training_rel_hum, '\\n')\n",
    "cat('R-squared:', r_squared_training_rel_hum, '\\n')\n",
    "cat('===========','\\n')\n",
    "cat('Relative Humidity with Second Order Term model performance', '\\n')\n",
    "cat('MSE:', mse_training_rel_hum_w_2nd_order, '\\n')\n",
    "cat('RMSE:', rmse_training_rel_hum_w_2nd_order, '\\n')\n",
    "cat('R-squared:', r_squared_training_rel_hum_w_2nd_order, '\\n')\n",
    "cat('===========','\\n')\n",
    "cat('Pressure model performance', '\\n')\n",
    "cat('MSE:', mse_training_pressure, '\\n')\n",
    "cat('RMSE:', rmse_training_pressure, '\\n')\n",
    "cat('R-squared:', r_squared_training_pressure, '\\n')\n",
    "cat('===========','\\n')\n",
    "cat('All Variables model performance', '\\n')\n",
    "cat('MSE:', mse_training_all_vars, '\\n')\n",
    "cat('RMSE:', rmse_training_all_vars, '\\n')\n",
    "cat('R-squared:', r_squared_training_all_vars, '\\n')\n",
    "cat('===========','\\n')"
   ]
  },
  {
   "cell_type": "markdown",
   "metadata": {},
   "source": [
    "<a id=\"cell10\"></a>\n",
    "## 10. Find Best Model\n",
    "Compare the regression metrics of each model from section 9 to find the best model overall. To do this, \n",
    "\n",
    "1. Evaluate the models on the **testing set** using at least one metric (like MSE, RMSE or R-squared).\n",
    "2. After calculating the metrics on the testing set for each model, print them out in as a table to easily compare. You can use something like:\n",
    "```\n",
    "model_names <- c(\"model_1\", \"model_2\", \"model_3\")\n",
    "train_error <- c(\"model_1_value\", \"model_2_value\", \"model_3_value\")\n",
    "test_error <- c(\"model_1_value\", \"model_2_value\", \"model_3_value\")\n",
    "comparison_df <- data.frame(model_names, train_error, test_error)\n",
    "```\n",
    "3. Finally, from the comparison table you create, conclude which model performed the best.\n"
   ]
  },
  {
   "cell_type": "code",
   "execution_count": 52,
   "metadata": {
    "tags": []
   },
   "outputs": [
    {
     "data": {
      "text/plain": [
       "parsnip model object\n",
       "\n",
       "Fit time:  2ms \n",
       "\n",
       "Call:\n",
       "stats::lm(formula = formula, data = data)\n",
       "\n",
       "Coefficients:\n",
       "     (Intercept)  station_pressure  \n",
       "         0.71897          -0.02377  \n"
      ]
     },
     "metadata": {},
     "output_type": "display_data"
    },
    {
     "data": {
      "text/plain": [
       "parsnip model object\n",
       "\n",
       "Fit time:  1ms \n",
       "\n",
       "Call:\n",
       "stats::lm(formula = formula, data = data)\n",
       "\n",
       "Coefficients:\n",
       "      (Intercept)  relative_humidity  \n",
       "       -0.0189583          0.0003763  \n"
      ]
     },
     "metadata": {},
     "output_type": "display_data"
    },
    {
     "data": {
      "text/plain": [
       "parsnip model object\n",
       "\n",
       "Fit time:  2ms \n",
       "\n",
       "Call:\n",
       "stats::lm(formula = formula, data = data)\n",
       "\n",
       "Coefficients:\n",
       "           (Intercept)       relative_humidity  I(relative_humidity^2)  \n",
       "             0.0312819              -0.0013713               0.0000137  \n"
      ]
     },
     "metadata": {},
     "output_type": "display_data"
    },
    {
     "data": {
      "text/plain": [
       "parsnip model object\n",
       "\n",
       "Fit time:  2ms \n",
       "\n",
       "Call:\n",
       "stats::lm(formula = formula, data = data)\n",
       "\n",
       "Coefficients:\n",
       "                       (Intercept)                   relative_humidity  \n",
       "                        -1.670e+00                           3.157e-02  \n",
       "                   dry_bulb_temp_f                          wind_speed  \n",
       "                        -2.824e-05                           5.362e-04  \n",
       "                  station_pressure  relative_humidity:station_pressure  \n",
       "                         5.490e-02                          -1.040e-03  \n"
      ]
     },
     "metadata": {},
     "output_type": "display_data"
    },
    {
     "name": "stdout",
     "output_type": "stream",
     "text": [
      "Pressure model performance \n",
      "MSE: 0.001138544 \n",
      "RMSE: 0.03374232 \n",
      "R-squared: 0.02504218 \n",
      "=========== \n",
      "Relative Humidity model performance \n",
      "MSE: 0.001111929 \n",
      "RMSE: 0.0333456 \n",
      "R-squared: 0.04783295 \n",
      "=========== \n",
      "Relative Humidity with Second Order Term model performance \n",
      "MSE: 0.001080589 \n",
      "RMSE: 0.03287231 \n",
      "R-squared: 0.07467039 \n",
      "=========== \n",
      "All Variables model performance \n",
      "MSE: 0.001061339 \n",
      "RMSE: 0.0325782 \n",
      "R-squared: 0.09115421 \n",
      "=========== \n"
     ]
    }
   ],
   "source": [
    "# now we run on test data two of the one-variable model, and the multi-variable models just above, using the testing data\n",
    "# and the same metrics are being evaluated\n",
    "\n",
    "testing_pressure <- lm_spec %>% \n",
    "    fit(precip ~ station_pressure, data = testing_data)\n",
    "testing_pressure\n",
    "\n",
    "testing_rel_hum <- lm_spec %>% \n",
    "    fit(precip ~ relative_humidity, data = testing_data)\n",
    "testing_rel_hum\n",
    "\n",
    "testing_rel_hum_w_2nd_order <- lm_spec %>% \n",
    "    fit(precip ~ relative_humidity + I(relative_humidity^2), data = testing_data)\n",
    "testing_rel_hum_w_2nd_order\n",
    "\n",
    "testing_all_vars <- lm_spec %>% \n",
    "    fit(precip ~ relative_humidity + dry_bulb_temp_f + wind_speed + station_pressure + station_pressure:relative_humidity, data = testing_data)\n",
    "testing_all_vars\n",
    "\n",
    "# now let's calculate MSE, RMSE and R2 for the 4 models above, using the testing data\n",
    "\n",
    "pred_testing_pressure <- predict(testing_pressure, new_data = testing_data)\n",
    "pred_testing_rel_hum <- predict(testing_rel_hum, new_data = testing_data)\n",
    "pred_testing_rel_hum_w_2nd_order <- predict(testing_rel_hum_w_2nd_order, new_data = testing_data)\n",
    "pred_testing_pressure <- predict(testing_pressure, new_data = testing_data)\n",
    "pred_testing_all_vars <- predict(testing_all_vars, new_data = testing_data)\n",
    "\n",
    "# Add predictions to the testing data\n",
    "results_testing_pressure <- testing_data %>%\n",
    "  mutate(\n",
    "    .pred_pressure = pred_testing_pressure$.pred,\n",
    "    residuals_pressure = precip - .pred_pressure\n",
    "  )\n",
    "results_testing_rel_hum <- testing_data %>%\n",
    "  mutate(\n",
    "    .pred_rel_hum = pred_testing_rel_hum$.pred,\n",
    "    residuals_rel_hum = precip - .pred_rel_hum\n",
    "  )\n",
    "results_testing_rel_hum_w_2nd_order <- testing_data %>%\n",
    "  mutate(\n",
    "    .pred_rel_hum_w_2nd_order = pred_testing_rel_hum_w_2nd_order$.pred,\n",
    "    residuals_rel_hum_w_2nd_order = precip - .pred_rel_hum_w_2nd_order\n",
    "  )\n",
    "results_testing_all_vars <- testing_data %>%\n",
    "  mutate(\n",
    "    .pred_all_vars = pred_testing_all_vars$.pred,\n",
    "    residuals_all_vars = precip - .pred_all_vars\n",
    "  )\n",
    "\n",
    "# Calculate MSE\n",
    "mse_testing_pressure <- mean(results_testing_pressure$residuals_pressure^2)\n",
    "mse_testing_rel_hum <- mean(results_testing_rel_hum$residuals_rel_hum^2)\n",
    "mse_testing_rel_hum_w_2nd_order <- mean(results_testing_rel_hum_w_2nd_order$residuals_rel_hum_w_2nd_order^2)\n",
    "mse_testing_all_vars <- mean(results_testing_all_vars$residuals_all_vars^2)\n",
    "\n",
    "# Calculate RMSE\n",
    "rmse_testing_pressure <- sqrt(mse_testing_pressure)\n",
    "rmse_testing_rel_hum <- sqrt(mse_testing_rel_hum)\n",
    "rmse_testing_rel_hum_w_2nd_order <- sqrt(mse_testing_rel_hum_w_2nd_order)\n",
    "rmse_testing_all_vars <- sqrt(mse_testing_all_vars)\n",
    "\n",
    "# Calculate R-squared\n",
    "ss_total_testing_pressure <- sum((testing_data$precip - mean(testing_data$precip))^2)\n",
    "ss_residual_testing_pressure <- sum(results_testing_pressure$residuals_pressure^2)\n",
    "r_squared_testing_pressure <- 1 - (ss_residual_testing_pressure / ss_total_testing_pressure)\n",
    "\n",
    "ss_total_testing_rel_hum <- sum((testing_data$precip - mean(testing_data$precip))^2)\n",
    "ss_residual_testing_rel_hum <- sum(results_testing_rel_hum$residuals_rel_hum^2)\n",
    "r_squared_testing_rel_hum <- 1 - (ss_residual_testing_rel_hum / ss_total_testing_rel_hum)\n",
    "\n",
    "ss_total_testing_rel_hum_w_2nd_order <- sum((testing_data$precip - mean(testing_data$precip))^2)\n",
    "ss_residual_testing_rel_hum_w_2nd_order <- sum(results_testing_rel_hum_w_2nd_order$residuals_rel_hum_w_2nd_order^2)\n",
    "r_squared_testing_rel_hum_w_2nd_order <- 1 - (ss_residual_testing_rel_hum_w_2nd_order / ss_total_testing_rel_hum_w_2nd_order)\n",
    "\n",
    "ss_total_testing_all_vars <- sum((testing_data$precip - mean(testing_data$precip))^2)\n",
    "ss_residual_testing_all_vars <- sum(results_testing_all_vars$residuals_all_vars^2)\n",
    "r_squared_testing_all_vars <- 1 - (ss_residual_testing_all_vars / ss_total_testing_all_vars)\n",
    "\n",
    "# Output results\n",
    "cat('Pressure model performance', '\\n')\n",
    "cat('MSE:', mse_testing_pressure, '\\n')\n",
    "cat('RMSE:', rmse_testing_pressure, '\\n')\n",
    "cat('R-squared:', r_squared_testing_pressure, '\\n')\n",
    "cat('===========','\\n')\n",
    "cat('Relative Humidity model performance', '\\n')\n",
    "cat('MSE:', mse_testing_rel_hum, '\\n')\n",
    "cat('RMSE:', rmse_testing_rel_hum, '\\n')\n",
    "cat('R-squared:', r_squared_testing_rel_hum, '\\n')\n",
    "cat('===========','\\n')\n",
    "cat('Relative Humidity with Second Order Term model performance', '\\n')\n",
    "cat('MSE:', mse_testing_rel_hum_w_2nd_order, '\\n')\n",
    "cat('RMSE:', rmse_testing_rel_hum_w_2nd_order, '\\n')\n",
    "cat('R-squared:', r_squared_testing_rel_hum_w_2nd_order, '\\n')\n",
    "cat('===========','\\n')\n",
    "cat('All Variables model performance', '\\n')\n",
    "cat('MSE:', mse_testing_all_vars, '\\n')\n",
    "cat('RMSE:', rmse_testing_all_vars, '\\n')\n",
    "cat('R-squared:', r_squared_testing_all_vars, '\\n')\n",
    "cat('===========','\\n')\n",
    "\n",
    "# sum(is.na(precip)) # Check for NAs in the response variable\n",
    "# sum(is.na(training_data)) # Check for NAs in the entire training data\n",
    "\n"
   ]
  },
  {
   "cell_type": "code",
   "execution_count": 55,
   "metadata": {
    "tags": []
   },
   "outputs": [],
   "source": [
    "# 2. After calculating the metrics on the testing set for each model, print them out in as a table to easily compare. You can use something like:\n",
    "model_names <- c(\"pressure\", \"relative humidty\", \"rel. hum. w/ 2nd order\", \"all variables\")\n",
    "train_error_R2 <- c(r_squared_training_pressure, r_squared_training_rel_hum, r_squared_training_rel_hum_w_2nd_order, r_squared_training_all_vars)\n",
    "test_error_R2 <- c(r_squared_testing_pressure, r_squared_testing_rel_hum, r_squared_testing_rel_hum_w_2nd_order, r_squared_testing_all_vars)\n",
    "comparison_df <- data.frame(model_names, train_error_R2, test_error_R2)"
   ]
  },
  {
   "cell_type": "code",
   "execution_count": 57,
   "metadata": {},
   "outputs": [
    {
     "name": "stdout",
     "output_type": "stream",
     "text": [
      "             model_names train_error_R2 test_error_R2\n",
      "1               pressure     0.01683821    0.02504218\n",
      "2       relative humidty     0.03662046    0.04783295\n",
      "3 rel. hum. w/ 2nd order     0.05663267    0.07467039\n",
      "4          all variables     0.06700315    0.09115421\n"
     ]
    }
   ],
   "source": [
    "# conclude which model performed best\n",
    "\n",
    "# Based on the R-squared calculated on both the training data and the testing data, the all variables model with all 4 variables\n",
    "# (relative_humidity, dry_bulb_temp_f, ) and a cross-variable of station_pressure and relative_humidity \n",
    "# performs best, among the 4 models compared.\n",
    "\n",
    "\n",
    "wind_speed\n",
    "'HOURLYStationPressure' to 'station_pressure'\n",
    "\n",
    "print(comparison_df)\n",
    "\n"
   ]
  },
  {
   "cell_type": "markdown",
   "metadata": {},
   "source": [
    "## Author(s)\n",
    "\n",
    "<h4> Yiwen Li </h4>\n",
    "\n",
    "## Contributions\n",
    "\n",
    "<h4> Tiffany Zhu </h4>\n",
    "\n",
    "## <h3 align=\"center\"> © IBM Corporation 2021. All rights reserved. <h3/>\n"
   ]
  }
 ],
 "metadata": {
  "kernelspec": {
   "display_name": "R",
   "language": "R",
   "name": "conda-env-r-r"
  },
  "language_info": {
   "codemirror_mode": "r",
   "file_extension": ".r",
   "mimetype": "text/x-r-source",
   "name": "R",
   "pygments_lexer": "r",
   "version": "3.5.1"
  }
 },
 "nbformat": 4,
 "nbformat_minor": 4
}
